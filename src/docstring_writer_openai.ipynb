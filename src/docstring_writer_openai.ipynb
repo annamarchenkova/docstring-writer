# Docstring writer with LLMs (Azure OpenAI)

## Imports

import os
import openai
from openai import AzureOpenAI
from tqdm import tqdm

from utils import (
    load_config, 
    create_prompt, 
    list_all_filepaths,
    )
from project_dirs import PROJECT_DIR, DATA_DIR, OUTPUT_DIR

%load_ext autoreload
%autoreload 3

os.makedirs(OUTPUT_DIR, exists_ok=True)

## Config, Azure Open AI params
cnf = load_config(cnf_dir=PROJECT_DIR, cnf_name='config.yml')

deployment_name = ['deployment_name']
api_version = cnf['api_version']
api_key = open(os.path.join(PROJECT_DIR, "keys", "azure_openai_key.txt"), "r").read().strip("\n")
endpoint = cnf['endpoint']

openai.api_type = cnf['api_type']
openai.api_key = open(os.path.join(PROJECT_DIR, "keys", cnf['openai_key_file']), "r").read().strip("\n")
openai.api_base = endpoint 
openai.api_version = api_version

# gets the API Key from environment variable AZURE_OPENAI_API_KEY
client = AzureOpenAI(
    api_key=api_key,
    api_version=api_version,
    azure_endpoint=endpoint,
)

## Data, Analysis
filepaths = list_all_filepaths(
    common_dir=DATA_DIR,
    folder="",
    extension="py"
    )
path  = filepaths[0]

with open(path, encoding='utf-8') as f:
    text = f.read()

funcs = text.split('\ndef ')
imports = funcs[0]
updated_funcs = []

for ix, func in enumerate(tqdm(funcs[1:])):
    func = ''.join(['def ', func.strip()])

    prompt = create_prompt(text=func)
    completion = client.chat.completions.create(
    model=deployment_name,  # e.g. gpt-35-instant
    messages=[
        {
            "role": "user",
            "content": prompt,
        },
    ],
    temperature=0,
    max_tokens=1000,
    )
    completion_text = completion.choices[0].message.content.strip()
    updated_func = ''.join(['\n\n', completion_text])
    
    # Make sure the func starts with def .
    if not completion_text.startswith('def '):
        try:
            completion_text = completion_text.split('def ')[1]
            updated_func = ''.join(['\n\ndef', completion_text])
        except IndexError:
            print(f"Function {ix} was not processed correctly. Writing raw output")
            pass

    updated_funcs.append(updated_func)

updated_functions = ''.join(updated_funcs)
final_str = f"{imports}{updated_functions}"

output_path = os.path.join(OUTPUT_DIR, 'functions.py')

with open(output_path, 'w') as f:
    f.write(final_str)
